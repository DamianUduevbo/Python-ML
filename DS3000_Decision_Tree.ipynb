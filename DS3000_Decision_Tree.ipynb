{
  "nbformat": 4,
  "nbformat_minor": 0,
  "metadata": {
    "colab": {
      "provenance": [],
      "authorship_tag": "ABX9TyNp6i1YKIHxQgvv983H5Umw"
    },
    "kernelspec": {
      "name": "python3",
      "display_name": "Python 3"
    },
    "language_info": {
      "name": "python"
    }
  },
  "cells": [
    {
      "cell_type": "markdown",
      "source": [
        "# DS 3000\n",
        "\n",
        "**Student Name**: Damian Uduevbo\n",
        "\n",
        "**Date**: 06/12/2022"
      ],
      "metadata": {
        "id": "t2T6rYoUZIiU"
      }
    },
    {
      "cell_type": "code",
      "execution_count": null,
      "metadata": {
        "id": "rpPzQ7P4Z57w"
      },
      "outputs": [],
      "source": [
        "import pandas as pd\n",
        "import matplotlib.pyplot as plt\n",
        "import seaborn as sns\n",
        "sns.set()\n",
        "from sklearn.tree import DecisionTreeClassifier\n",
        "from sklearn.tree import DecisionTreeRegressor\n",
        "from sklearn.ensemble import RandomForestRegressor\n",
        "from sklearn.metrics import accuracy_score, classification_report, mean_squared_error\n",
        "from sklearn.model_selection import train_test_split"
      ]
    },
    {
      "cell_type": "markdown",
      "source": [
        "Include any previous data preparation steps, EDA and visualizations. Its ok to copy and paste your code. However, ensure that you update the code based on the previous feedback from the TAs."
      ],
      "metadata": {
        "id": "I64oJIxxcLNB"
      }
    },
    {
      "cell_type": "code",
      "source": [
        "df = pd.read_csv('green_tripdata_2021-12.csv', low_memory=False)\n",
        "df = df.drop(columns='ehail_fee')\n",
        "\n",
        "df['payment_type'].fillna(5, inplace = True)\n",
        "df['trip_type'].fillna(0, inplace = True)\n",
        "df['RatecodeID'].fillna(0, inplace = True)\n",
        "\n",
        "df['congestion_surcharge'].fillna(0, inplace = True)\n",
        "df['store_and_fwd_flag'].fillna('N', inplace = True)\n",
        "\n",
        "# get all non zeros\n",
        "df = df.loc[df[\"total_amount\"] > 0 ]\n",
        "df = df.loc[df[\"trip_distance\"] > 0 ]"
      ],
      "metadata": {
        "id": "hLUNe8m1aXiK"
      },
      "execution_count": null,
      "outputs": []
    },
    {
      "cell_type": "code",
      "source": [
        "tripTypeArr = {}\n",
        "\n",
        "for e in df['trip_type']:\n",
        "  if e in tripTypeArr:\n",
        "    tripTypeArr[e] += 1\n",
        "  else: tripTypeArr[e] = 1\n",
        "\n",
        "dataPlotSize = range(len(tripTypeArr))\n",
        "values = list(tripTypeArr.values())\n",
        "\n",
        "plt.bar(dataPlotSize, values, tick_label=['Street Hail', 'Dispatch', 'Unknown'])\n",
        "\n",
        "plt.xlabel(\"Trip Types\")\n",
        "plt.ylabel(\"Number of Trips\")\n",
        "plt.show()"
      ],
      "metadata": {
        "colab": {
          "base_uri": "https://localhost:8080/",
          "height": 285
        },
        "id": "3EVEO9UOcTUo",
        "outputId": "0b92e18e-5415-482b-a568-30c026a4d9c0"
      },
      "execution_count": null,
      "outputs": [
        {
          "output_type": "display_data",
          "data": {
            "text/plain": [
              "<Figure size 432x288 with 1 Axes>"
            ],
            "image/png": "[encoded data removed]"
          },
          "metadata": {}
        }
      ]
    },
    {
      "cell_type": "code",
      "source": [
        "dropOffArr = {}\n",
        "\n",
        "for dfElement in df['DOLocationID']:\n",
        "  if dfElement in dropOffArr:\n",
        "    dropOffArr[dfElement] += 1\n",
        "  else:\n",
        "    dropOffArr[dfElement] = 1\n",
        "\n",
        "# print(dropOffArr)\n",
        "count = 0\n",
        "\n",
        "sortedData = sorted(dropOffArr.items(), key=lambda v: v[1])\n",
        "dropOffHashMap = dict(sortedData)\n",
        "\n",
        "for e in dropOffHashMap.keys():\n",
        "  if count <= 20:\n",
        "    plt.bar(str(e), dropOffHashMap[e])\n",
        "    count += 1\n",
        "\n",
        "plt.xlabel(\"Drop Off Location ID's\")\n",
        "plt.ylabel(\"Number of Drop Offs\")\n",
        "plt.show()"
      ],
      "metadata": {
        "id": "KTYNOPRsbw1A",
        "colab": {
          "base_uri": "https://localhost:8080/",
          "height": 285
        },
        "outputId": "e32b691b-d0e7-47b6-b40f-5c28560f9ad3"
      },
      "execution_count": null,
      "outputs": [
        {
          "output_type": "display_data",
          "data": {
            "text/plain": [
              "<Figure size 432x288 with 1 Axes>"
            ],
            "image/png": "[encoded data removed]"
          },
          "metadata": {}
        }
      ]
    },
    {
      "cell_type": "code",
      "source": [
        "# df.shape\n",
        "# df.dtypes\n",
        "print('Dimensions:', df.shape)\n",
        "print('DataTypes of columns:', df.dtypes)"
      ],
      "metadata": {
        "colab": {
          "base_uri": "https://localhost:8080/"
        },
        "id": "dorDtz84cUqS",
        "outputId": "ebe8bac0-94d5-44fe-94f8-30fbd6ca819b"
      },
      "execution_count": null,
      "outputs": [
        {
          "output_type": "stream",
          "name": "stdout",
          "text": [
            "Dimensions: (95862, 19)\n",
            "DataTypes of columns: VendorID                   int64\n",
            "lpep_pickup_datetime      object\n",
            "lpep_dropoff_datetime     object\n",
            "store_and_fwd_flag        object\n",
            "RatecodeID               float64\n",
            "PULocationID               int64\n",
            "DOLocationID               int64\n",
            "passenger_count          float64\n",
            "trip_distance            float64\n",
            "fare_amount              float64\n",
            "extra                    float64\n",
            "mta_tax                  float64\n",
            "tip_amount               float64\n",
            "tolls_amount             float64\n",
            "improvement_surcharge    float64\n",
            "total_amount             float64\n",
            "payment_type             float64\n",
            "trip_type                float64\n",
            "congestion_surcharge     float64\n",
            "dtype: object\n"
          ]
        }
      ]
    },
    {
      "cell_type": "code",
      "source": [
        "minIdx = df['total_amount'].idxmin()\n",
        "maxIdx = df['total_amount'].idxmax()\n",
        "\n",
        "minCost = df['total_amount'].min()\n",
        "maxCost = df['total_amount'].max()\n",
        "\n",
        "minDist = df.loc[minIdx]['trip_distance']\n",
        "maxDist = df.loc[maxIdx]['trip_distance']\n",
        "\n",
        "print(\"Least expensive trip:\", minCost, \"\\n * Miles traveled:\", minDist)\n",
        "print()\n",
        "print(\"Most expensive trip:\", maxCost, \"\\n * Miles traveled:\", maxDist)"
      ],
      "metadata": {
        "colab": {
          "base_uri": "https://localhost:8080/"
        },
        "id": "foHv5m56dYwW",
        "outputId": "151524f8-ec7c-4d14-f517-d44f66b87a94"
      },
      "execution_count": null,
      "outputs": [
        {
          "output_type": "stream",
          "name": "stdout",
          "text": [
            "Least expensive trip: 0.01 \n",
            " * Miles traveled: 1.8\n",
            "\n",
            "Most expensive trip: 533.3 \n",
            " * Miles traveled: 102.57\n"
          ]
        }
      ]
    },
    {
      "cell_type": "markdown",
      "source": [
        "**1. Partition the data into train/test split.**\n",
        "\n",
        "**2. Select the required features to build your model based on the insights from your EDA. Briefly explain the reason for the features that you selected. Ensure that you encode any categorical features.**"
      ],
      "metadata": {
        "id": "JBG3uxWsZJEj"
      }
    },
    {
      "cell_type": "code",
      "source": [
        "dependent = df[['tip_amount']]\n",
        "\n",
        "factors = df.drop('tip_amount', axis = 1)\n",
        "factors = df[['trip_distance', 'fare_amount', 'payment_type']]"
      ],
      "metadata": {
        "id": "t6C982hidqKW"
      },
      "execution_count": null,
      "outputs": []
    },
    {
      "cell_type": "code",
      "source": [
        "trainFactors, testFactors, trainDependent, testDependent = train_test_split(\n",
        "    factors, dependent, test_size=0.3, random_state=7) "
      ],
      "metadata": {
        "id": "nrPIHrbpd1os"
      },
      "execution_count": null,
      "outputs": []
    },
    {
      "cell_type": "markdown",
      "source": [
        "The factors I chose were *fare amount*, *trip distance*, and *payment type* because there is a large set of their given data and they are most likely to determine if a customers tips at all, and the amount that they tip."
      ],
      "metadata": {
        "id": "2ax_INBZZxyp"
      }
    },
    {
      "cell_type": "markdown",
      "source": [
        "**Build a model that predicts the tip amount.**"
      ],
      "metadata": {
        "id": "ehhg2o30Z-ot"
      }
    },
    {
      "cell_type": "code",
      "source": [
        "treeReg = DecisionTreeRegressor(random_state = 7)\n",
        "treeReg.fit(trainFactors, trainDependent)\n"
      ],
      "metadata": {
        "colab": {
          "base_uri": "https://localhost:8080/"
        },
        "id": "drTd5Jkpd5iB",
        "outputId": "2b485b1a-9005-4c89-9290-df3b359edfb3"
      },
      "execution_count": null,
      "outputs": [
        {
          "output_type": "execute_result",
          "data": {
            "text/plain": [
              "DecisionTreeRegressor(random_state=7)"
            ]
          },
          "metadata": {},
          "execution_count": 38
        }
      ]
    },
    {
      "cell_type": "markdown",
      "source": [
        "**Evaluate the predictions from your model and comment on the results. Ensure that you choose the correct metric. Remember that we evaluate models differently depending on the task, i.e. classification or regression.**"
      ],
      "metadata": {
        "id": "goQ-bIcnasm4"
      }
    },
    {
      "cell_type": "code",
      "source": [
        "print('Predicted tip:', treeReg.predict(testFactors))"
      ],
      "metadata": {
        "colab": {
          "base_uri": "https://localhost:8080/"
        },
        "id": "Q2ENw0bdaNDV",
        "outputId": "4687c253-1177-41f2-f61d-013eee0d66f4"
      },
      "execution_count": null,
      "outputs": [
        {
          "output_type": "stream",
          "name": "stdout",
          "text": [
            "Predicted tip: [0.   0.   0.   ... 0.   0.   1.98]\n"
          ]
        }
      ]
    },
    {
      "cell_type": "markdown",
      "source": [
        "We use decision tree regression because our target is numerical"
      ],
      "metadata": {
        "id": "RKGyzNG1N6j7"
      }
    },
    {
      "cell_type": "code",
      "source": [
        "meanErr = mean_squared_error(testDependent, treeReg.predict(testFactors))\n",
        "print('Mean squared error:', meanErr)"
      ],
      "metadata": {
        "colab": {
          "base_uri": "https://localhost:8080/"
        },
        "id": "fKjU79eteATP",
        "outputId": "d917431a-cf53-4c35-d0f2-a9f5be1faf4d"
      },
      "execution_count": null,
      "outputs": [
        {
          "output_type": "stream",
          "name": "stdout",
          "text": [
            "Mean squared error: 6.630745938321982\n"
          ]
        }
      ]
    },
    {
      "cell_type": "markdown",
      "source": [
        "Because we used a regression model we must need to use mean squared error (MSE), which is supposed to give us an estimate of how close we are to the true tip amount(s)."
      ],
      "metadata": {
        "id": "SLHyEochOh_g"
      }
    }
  ]
}